{
  "nbformat": 4,
  "nbformat_minor": 0,
  "metadata": {
    "colab": {
      "provenance": [],
      "authorship_tag": "ABX9TyPyiXtHr/VL71GcxPdsMdk4",
      "include_colab_link": true
    },
    "kernelspec": {
      "name": "python3",
      "display_name": "Python 3"
    },
    "language_info": {
      "name": "python"
    }
  },
  "cells": [
    {
      "cell_type": "markdown",
      "metadata": {
        "id": "view-in-github",
        "colab_type": "text"
      },
      "source": [
        "<a href=\"https://colab.research.google.com/github/Pneva-NV/Home-Work/blob/main/%D0%A1%D0%B5%D0%BC%D0%B8%D0%BD%D0%B0%D1%801_%D0%97%D0%B0%D0%B4%D0%B0%D1%87%D0%B05.ipynb\" target=\"_parent\"><img src=\"https://colab.research.google.com/assets/colab-badge.svg\" alt=\"Open In Colab\"/></a>"
      ]
    },
    {
      "cell_type": "markdown",
      "source": [
        "##Задача 5"
      ],
      "metadata": {
        "id": "A8_iEIJN2KD2"
      }
    },
    {
      "cell_type": "markdown",
      "source": [
        "###Задание 1"
      ],
      "metadata": {
        "id": "SXbb3dnf2PUz"
      }
    },
    {
      "cell_type": "markdown",
      "source": [
        "Найдите картинку в Интернете и прикрепите её в ячейку с текстом."
      ],
      "metadata": {
        "id": "yxFhMmBq2TaZ"
      }
    },
    {
      "cell_type": "markdown",
      "source": [
        " <img src='https://wp-s.ru/wallpapers/13/2/542813537254053/kejt-bekinsejl-portret-karandashom.jpg'>\n"
      ],
      "metadata": {
        "id": "KJxOKULO4a-c"
      }
    },
    {
      "cell_type": "markdown",
      "source": [
        "###Задание 2"
      ],
      "metadata": {
        "id": "bzsXVFwK5S_9"
      }
    },
    {
      "cell_type": "markdown",
      "source": [
        "Создайте таблицу в ячейке с текстом."
      ],
      "metadata": {
        "id": "OuIoW5pb5v7A"
      }
    },
    {
      "cell_type": "markdown",
      "source": [
        "<table> \n",
        "  <tr>\n",
        "      <td></td>\n",
        "       <td><b>до события</b></td>\n",
        "        <td><b>во время события</b></td>\n",
        "  </tr> \n",
        "   <tr>\n",
        "      <td>1 контрольная точка</td>\n",
        "       <td>250</td>\n",
        "        <td>500</td>\n",
        "  </tr> \n",
        "   <tr>\n",
        "      <td>2 контрольная точка</td>\n",
        "       <td>350</td>\n",
        "        <td>700</td>\n",
        "  </tr> \n",
        "   <tr>\n",
        "      <td>3 контрольная точка</td>\n",
        "       <td>400</td>\n",
        "        <td>800</td>\n",
        "  </tr> \n",
        "   <tr>\n",
        "      <th>Итого за победу</th>\n",
        "       <td>1000</td>\n",
        "        <td>2000</td>\n",
        "  </tr> \n",
        "</table>"
      ],
      "metadata": {
        "id": "B-B2rUVh59Ei"
      }
    }
  ]
}