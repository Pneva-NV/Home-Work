{
  "nbformat": 4,
  "nbformat_minor": 0,
  "metadata": {
    "colab": {
      "provenance": [],
      "authorship_tag": "ABX9TyNPj+CjVaMDQjWC8gQdSNGK",
      "include_colab_link": true
    },
    "kernelspec": {
      "name": "python3",
      "display_name": "Python 3"
    },
    "language_info": {
      "name": "python"
    }
  },
  "cells": [
    {
      "cell_type": "markdown",
      "metadata": {
        "id": "view-in-github",
        "colab_type": "text"
      },
      "source": [
        "<a href=\"https://colab.research.google.com/github/Pneva-NV/Home-Work/blob/main/%D0%A1%D0%B5%D0%BC%D0%B8%D0%BD%D0%B0%D1%801_%D0%97%D0%B0%D0%B4%D0%B0%D1%87%D0%B04.ipynb\" target=\"_parent\"><img src=\"https://colab.research.google.com/assets/colab-badge.svg\" alt=\"Open In Colab\"/></a>"
      ]
    },
    {
      "cell_type": "markdown",
      "source": [
        "##Задача 4"
      ],
      "metadata": {
        "id": "qGv-qpRDl0zr"
      }
    },
    {
      "cell_type": "markdown",
      "source": [
        "###Задание 1"
      ],
      "metadata": {
        "id": "SNaa8l5ZmA-R"
      }
    },
    {
      "cell_type": "markdown",
      "source": [
        "Сгенерируйте случайные целые числа от 0 до 100 в количестве 5 штук с помощью модуля random.\n",
        "\n",
        "- зафиксируйте псевдогенерацию, чтобы сгенерированные значения всегда были одинаковые;\n",
        "- используйте list comprehensions;"
      ],
      "metadata": {
        "id": "fyL5_B0EmaJP"
      }
    },
    {
      "cell_type": "code",
      "source": [
        "import random"
      ],
      "metadata": {
        "id": "zzybNTX4ml0p"
      },
      "execution_count": 1,
      "outputs": []
    },
    {
      "cell_type": "code",
      "source": [
        "random.seed(10)\n",
        "new_list = [random.randint(0, 100) for _ in range(5)]\n",
        "new_list"
      ],
      "metadata": {
        "colab": {
          "base_uri": "https://localhost:8080/"
        },
        "id": "cdz0yE-3mpk_",
        "outputId": "e54385fa-919c-4f5f-ae84-80c5de357b8a"
      },
      "execution_count": 2,
      "outputs": [
        {
          "output_type": "execute_result",
          "data": {
            "text/plain": [
              "[73, 4, 54, 61, 73]"
            ]
          },
          "metadata": {},
          "execution_count": 2
        }
      ]
    },
    {
      "cell_type": "markdown",
      "source": [
        "###Задание 2"
      ],
      "metadata": {
        "id": "FydbE93bmv1h"
      }
    },
    {
      "cell_type": "markdown",
      "source": [
        "- генератор на вход принимает список с данными о клиенте (данные из пункта Ex1-004-1);\n",
        "- внутри генератора реализуйте обход по списку с данными;\n",
        "На каждой итерации генератор будет возвращать кортеж из двух элементов:\n",
        "\n",
        "1. Данные по клиенту (в зависимости от итерации, на 0 итерации вернется 0 элемент, на 1 итерации вернется 1 элемент и т.д.).\n",
        "2. Целочисленное значение, которое показывает, сколько секунд прошло с предыдущей итерации.\n",
        "Примечание: секунды, которые возвращаются должны показывать время не с начала запуска генератора, а именно то время, которое прошло с предыдущей итерации. А значит время на первой итерации должно равняться 0.\n",
        "\n",
        "- используйте функцию time из модуля time для подсчета времени;\n",
        "- чтобы проверить работу таймера, запустите проход по генератору в цикле с time.sleep(2);"
      ],
      "metadata": {
        "id": "6AXB970_mzs-"
      }
    },
    {
      "cell_type": "code",
      "source": [
        "import time\n",
        "\n",
        "\n",
        "def generator_1(input_list: list) -> tuple:\n",
        "    prev_time = None\n",
        "    for item in input_list:\n",
        "        current_time = time.time()\n",
        "        if prev_time:\n",
        "            diff = current_time - prev_time\n",
        "        else:\n",
        "            diff = 0\n",
        "        prev_time = time.time()\n",
        "        yield (item, int(diff))"
      ],
      "metadata": {
        "id": "NoCmAoYanGwi"
      },
      "execution_count": 3,
      "outputs": []
    },
    {
      "cell_type": "code",
      "source": [
        "for i in generator_1(new_list):\n",
        "    print(i)\n",
        "    time.sleep(2)"
      ],
      "metadata": {
        "colab": {
          "base_uri": "https://localhost:8080/"
        },
        "id": "42Absp71nJ3G",
        "outputId": "2df7f2ab-2e15-48ab-c841-162659ddcaa9"
      },
      "execution_count": 4,
      "outputs": [
        {
          "output_type": "stream",
          "name": "stdout",
          "text": [
            "(73, 0)\n",
            "(4, 2)\n",
            "(54, 2)\n",
            "(61, 2)\n",
            "(73, 2)\n"
          ]
        }
      ]
    }
  ]
}