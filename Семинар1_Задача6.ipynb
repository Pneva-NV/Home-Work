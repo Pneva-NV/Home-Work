{
  "nbformat": 4,
  "nbformat_minor": 0,
  "metadata": {
    "colab": {
      "provenance": [],
      "authorship_tag": "ABX9TyP2G8GjEu1yWV2esBrnPVgG",
      "include_colab_link": true
    },
    "kernelspec": {
      "name": "python3",
      "display_name": "Python 3"
    },
    "language_info": {
      "name": "python"
    }
  },
  "cells": [
    {
      "cell_type": "markdown",
      "metadata": {
        "id": "view-in-github",
        "colab_type": "text"
      },
      "source": [
        "<a href=\"https://colab.research.google.com/github/Pneva-NV/Home-Work/blob/main/%D0%A1%D0%B5%D0%BC%D0%B8%D0%BD%D0%B0%D1%801_%D0%97%D0%B0%D0%B4%D0%B0%D1%87%D0%B06.ipynb\" target=\"_parent\"><img src=\"https://colab.research.google.com/assets/colab-badge.svg\" alt=\"Open In Colab\"/></a>"
      ]
    },
    {
      "cell_type": "markdown",
      "source": [
        "##Задача 6"
      ],
      "metadata": {
        "id": "iZ6_LmMZByVa"
      }
    },
    {
      "cell_type": "markdown",
      "source": [
        "Напишите функцию, которая может принимать любое количество трат пользоателя и считать сумму и среднее.\n",
        "- На вход поступают целочисленные значения в любом количестве.\n",
        "- На выходе словарь с ключами суммы трат и средней траты."
      ],
      "metadata": {
        "id": "VNWoQi5UB2xK"
      }
    },
    {
      "cell_type": "code",
      "source": [
        "def sum_and_average(*args) -> dict:\n",
        "    sum_args = sum(args)\n",
        "    average = sum_args / len(args)\n",
        "    return {\n",
        "            'sum': sum_args,\n",
        "            'average': average\n",
        "    }"
      ],
      "metadata": {
        "id": "YpwlqgVmCJxv"
      },
      "execution_count": 1,
      "outputs": []
    },
    {
      "cell_type": "code",
      "source": [
        "sum_and_average(45, 5888, 87, 100, 56)"
      ],
      "metadata": {
        "colab": {
          "base_uri": "https://localhost:8080/"
        },
        "id": "jfEAf1EBDQ6r",
        "outputId": "7b857344-369d-4c74-ea16-64507e4c1b55"
      },
      "execution_count": 2,
      "outputs": [
        {
          "output_type": "execute_result",
          "data": {
            "text/plain": [
              "{'sum': 6176, 'average': 1235.2}"
            ]
          },
          "metadata": {},
          "execution_count": 2
        }
      ]
    }
  ]
}