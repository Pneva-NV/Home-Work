{
  "nbformat": 4,
  "nbformat_minor": 0,
  "metadata": {
    "colab": {
      "provenance": [],
      "authorship_tag": "ABX9TyNECE9xzMIfT+/Y+8N3KthU",
      "include_colab_link": true
    },
    "kernelspec": {
      "name": "python3",
      "display_name": "Python 3"
    },
    "language_info": {
      "name": "python"
    }
  },
  "cells": [
    {
      "cell_type": "markdown",
      "metadata": {
        "id": "view-in-github",
        "colab_type": "text"
      },
      "source": [
        "<a href=\"https://colab.research.google.com/github/Pneva-NV/Home-Work/blob/main/HW1.ipynb\" target=\"_parent\"><img src=\"https://colab.research.google.com/assets/colab-badge.svg\" alt=\"Open In Colab\"/></a>"
      ]
    },
    {
      "cell_type": "markdown",
      "source": [
        "##Задача 1\n",
        "Оформляйте ноутбук, используя эти советы:\n",
        "- Номер задачи - заголовок 2\n",
        "- Номер подзадачи - заголовок 3\n",
        "- Предоставленные наборы данных оформляйте, как\n",
        "```\n",
        "код\n",
        "```"
      ],
      "metadata": {
        "id": "veNablU8lmJl"
      }
    },
    {
      "cell_type": "markdown",
      "source": [
        "##Задача 2\n",
        "\n",
        "На складе лежат разные фрукты в разном количестве.\n",
        "Написать функцию, которая на вход принимает любое количество названий фруктов и их количество, а возвращает общее количество фруктов на складе.\n",
        "\n",
        "```\n",
        "total_fruits(banana=5, mango=7, apple=8)\n",
        "20\n",
        "```"
      ],
      "metadata": {
        "id": "8bgUfl86SZEj"
      }
    },
    {
      "cell_type": "code",
      "source": [
        "def sum_fruits(**kwargs):\n",
        "    all_fruits = sum(kwargs.values())\n",
        "    return all_fruits"
      ],
      "metadata": {
        "id": "1ach7jmRhqIq"
      },
      "execution_count": 41,
      "outputs": []
    },
    {
      "cell_type": "code",
      "source": [
        "sum_fruits(apple=5, avocago=9, kiwi=12, melon=2)"
      ],
      "metadata": {
        "colab": {
          "base_uri": "https://localhost:8080/"
        },
        "id": "kPRHuk-ymV4Q",
        "outputId": "0090bd48-2151-471d-e46e-2d81e962be82"
      },
      "execution_count": 43,
      "outputs": [
        {
          "output_type": "execute_result",
          "data": {
            "text/plain": [
              "28"
            ]
          },
          "metadata": {},
          "execution_count": 43
        }
      ]
    },
    {
      "cell_type": "markdown",
      "source": [
        "##Задача 3\n",
        "Дан список с затратами на рекламу. Но в данных есть ошибки, некоторые затраты имеют отрицательную величину. Удалите такие значения из списка и посчитайте суммарные затраты\n",
        "```\n",
        "[100, 125, -90, 345, 655, -1, 0, 200]\n",
        "```\n",
        "Используйте list comprehensions"
      ],
      "metadata": {
        "id": "3IwlmYXovqLu"
      }
    },
    {
      "cell_type": "code",
      "source": [
        "list=[100, 125, -90, 345, 655, -1, 0, 200]\n",
        "\n",
        "positive_num=[i for i in list if i > 0]\n"
      ],
      "metadata": {
        "id": "0M-DWqlkwUXA"
      },
      "execution_count": 88,
      "outputs": []
    },
    {
      "cell_type": "code",
      "source": [
        "positive_num"
      ],
      "metadata": {
        "colab": {
          "base_uri": "https://localhost:8080/"
        },
        "id": "y8c3Z5Kv_lm3",
        "outputId": "1abbef02-d40c-49f4-8753-50f887f15c72"
      },
      "execution_count": 89,
      "outputs": [
        {
          "output_type": "execute_result",
          "data": {
            "text/plain": [
              "[100, 125, 345, 655, 200]"
            ]
          },
          "metadata": {},
          "execution_count": 89
        }
      ]
    },
    {
      "cell_type": "code",
      "source": [
        "sum_list=sum(positive_num)"
      ],
      "metadata": {
        "id": "UnaTfRiVXbfQ"
      },
      "execution_count": 90,
      "outputs": []
    },
    {
      "cell_type": "code",
      "source": [
        "print(f'Суммарные затраты на рекламу составят: {sum_list}')"
      ],
      "metadata": {
        "colab": {
          "base_uri": "https://localhost:8080/"
        },
        "id": "7y6R0N8fY2Hi",
        "outputId": "cdd476e5-80af-43a9-c7ae-3d83b44f6fcf"
      },
      "execution_count": 94,
      "outputs": [
        {
          "output_type": "stream",
          "name": "stdout",
          "text": [
            "Суммарные затраты на рекламу составят: 1425\n"
          ]
        }
      ]
    },
    {
      "cell_type": "markdown",
      "source": [
        "##Задача 4\n",
        "Даны два списка. <br>Дата покупки\n",
        "```\n",
        "['2021-09-14', '2021-12-15', '2021-09-08', '2021-12-05', '2021-10-09', '2021-09-30', '2021-12-22', '2021-11-29', '2021-12-24', '2021-11-26', '2021-10-27', '2021-12-18', '2021-11-09', '2021-11-23', '2021-09-27', '2021-10-02', '2021-12-27', '2021-09-20', '2021-12-13', '2021-11-01', '2021-11-09', '2021-12-06', '2021-12-08', '2021-10-09', '2021-10-31', '2021-09-30', '2021-11-09', '2021-12-13', '2021-10-26', '2021-12-09']\n",
        "```\n",
        "Суммы покупок по датам\n",
        "```\n",
        "[1270, 8413, 9028, 3703, 5739, 4095, 295, 4944, 5723, 3701, 4471, 651, 7037, 4274, 6275, 4988, 6930, 2971, 6592, 2004, 2822, 519, 3406, 2732, 5015, 2008, 316, 6333, 5700, 2887]\n",
        "```"
      ],
      "metadata": {
        "id": "42FJDmJbBabA"
      }
    },
    {
      "cell_type": "markdown",
      "source": [
        "###Подзадача 4.1\n",
        "Найдите, какая выручка у компании в ноябре.\n",
        "<br>Используйте list comprehensions"
      ],
      "metadata": {
        "id": "4l-3RbpXCoJc"
      }
    },
    {
      "cell_type": "code",
      "source": [
        "date=['2021-09-14', '2021-12-15', '2021-09-08', '2021-12-05', '2021-10-09', \n",
        "      '2021-09-30', '2021-12-22', '2021-11-29', '2021-12-24', '2021-11-26', \n",
        "      '2021-10-27', '2021-12-18', '2021-11-09', '2021-11-23', '2021-09-27', \n",
        "      '2021-10-02', '2021-12-27', '2021-09-20', '2021-12-13', '2021-11-01', \n",
        "      '2021-11-09', '2021-12-06', '2021-12-08', '2021-10-09', '2021-10-31', \n",
        "      '2021-09-30', '2021-11-09', '2021-12-13', '2021-10-26', '2021-12-09']\n",
        "\n",
        "revenue=[1270, 8413, 9028, 3703, 5739, \n",
        "         4095, 295, 4944, 5723, 3701, \n",
        "         4471, 651, 7037, 4274, 6275, \n",
        "         4988, 6930, 2971, 6592, 2004, \n",
        "         2822, 519, 3406, 2732, 5015, \n",
        "         2008, 316, 6333, 5700, 2887]"
      ],
      "metadata": {
        "id": "VKLWpASRDBum"
      },
      "execution_count": 75,
      "outputs": []
    },
    {
      "cell_type": "code",
      "source": [
        "november_prpfit=[revenue[i] for i in range(0, len(date)) if '-11-' in date[i]]"
      ],
      "metadata": {
        "id": "nOrN9gy-HooU"
      },
      "execution_count": 107,
      "outputs": []
    },
    {
      "cell_type": "code",
      "source": [
        "november_prpfit"
      ],
      "metadata": {
        "colab": {
          "base_uri": "https://localhost:8080/"
        },
        "id": "o8xT378mbatS",
        "outputId": "89da92bb-f600-426b-8462-521aa8d1295d"
      },
      "execution_count": 108,
      "outputs": [
        {
          "output_type": "execute_result",
          "data": {
            "text/plain": [
              "[4944, 3701, 7037, 4274, 2004, 2822, 316]"
            ]
          },
          "metadata": {},
          "execution_count": 108
        }
      ]
    },
    {
      "cell_type": "code",
      "source": [
        "profit=sum([revenue[i] for i in range(len(date)) if '-11-' in date[i]])"
      ],
      "metadata": {
        "id": "H-GMHltebjtp"
      },
      "execution_count": 109,
      "outputs": []
    },
    {
      "cell_type": "code",
      "source": [
        "print(f'Выручка за ноябрь: {profit}')"
      ],
      "metadata": {
        "colab": {
          "base_uri": "https://localhost:8080/"
        },
        "id": "TBF_DMPTbmbq",
        "outputId": "da1fbd3c-eba4-4f81-9e99-4bf2a0fac342"
      },
      "execution_count": 110,
      "outputs": [
        {
          "output_type": "stream",
          "name": "stdout",
          "text": [
            "Выручка за ноябрь: 25098\n"
          ]
        }
      ]
    },
    {
      "cell_type": "markdown",
      "source": [
        "###Подзадача 4.2\n",
        "Найдите выручку компании в зависимости от месяца.\n",
        "<br>Для этого напишите функцию, которая на вход принимает список с датами и список с выручкой, а на выходе словарь, <br>где ключи - это месяцы, а значения - это выручка.\n",
        "<br>Используйте аннотирование типов.\n"
      ],
      "metadata": {
        "id": "X1Ux1uNsNhcD"
      }
    },
    {
      "cell_type": "code",
      "source": [
        "def dict_profit(date: list, revenue: list) -> dict:\n",
        "    mounth_profit = {}\n",
        "    for i in range(len(date)):\n",
        "        if date[i].split('-')[1] in mounth_profit.keys():\n",
        "           mounth_profit[date[i].split('-')[1]] += revenue[i]\n",
        "        else:\n",
        "            mounth_profit[date[i].split('-')[1]] = revenue[i] \n",
        "    return mounth_profit"
      ],
      "metadata": {
        "id": "pXyzKgb0EgY0"
      },
      "execution_count": 116,
      "outputs": []
    },
    {
      "cell_type": "code",
      "source": [
        "dict_profit(date, revenue)"
      ],
      "metadata": {
        "colab": {
          "base_uri": "https://localhost:8080/"
        },
        "id": "xsFvXL_5ljTo",
        "outputId": "da37f9ce-21c3-4075-ab29-52a54a969ad5"
      },
      "execution_count": 117,
      "outputs": [
        {
          "output_type": "execute_result",
          "data": {
            "text/plain": [
              "{'09': 25647, '12': 45452, '10': 28645, '11': 25098}"
            ]
          },
          "metadata": {},
          "execution_count": 117
        }
      ]
    }
  ]
}