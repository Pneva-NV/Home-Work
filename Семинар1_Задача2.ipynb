{
  "nbformat": 4,
  "nbformat_minor": 0,
  "metadata": {
    "colab": {
      "provenance": [],
      "authorship_tag": "ABX9TyPWR+G7hYEae+31y+NqZfax",
      "include_colab_link": true
    },
    "kernelspec": {
      "name": "python3",
      "display_name": "Python 3"
    },
    "language_info": {
      "name": "python"
    }
  },
  "cells": [
    {
      "cell_type": "markdown",
      "metadata": {
        "id": "view-in-github",
        "colab_type": "text"
      },
      "source": [
        "<a href=\"https://colab.research.google.com/github/Pneva-NV/Home-Work/blob/main/%D0%A1%D0%B5%D0%BC%D0%B8%D0%BD%D0%B0%D1%801_%D0%97%D0%B0%D0%B4%D0%B0%D1%87%D0%B02.ipynb\" target=\"_parent\"><img src=\"https://colab.research.google.com/assets/colab-badge.svg\" alt=\"Open In Colab\"/></a>"
      ]
    },
    {
      "cell_type": "markdown",
      "source": [
        "##Задача 2\n"
      ],
      "metadata": {
        "id": "St0cTUbuTfP4"
      }
    },
    {
      "cell_type": "markdown",
      "source": [
        "Напишите функцию, которая из двух списков делает один словарь, где элементы из первого списка - ключи, а элементы из второго списка - значения."
      ],
      "metadata": {
        "id": "qQvzg7MQTs9-"
      }
    },
    {
      "cell_type": "code",
      "source": [
        "keys=['One', 'Two', 'Three']\n",
        "values=[1,2,3]"
      ],
      "metadata": {
        "id": "24aCemEDT7dq"
      },
      "execution_count": null,
      "outputs": []
    },
    {
      "cell_type": "markdown",
      "source": [
        "###Задание 1"
      ],
      "metadata": {
        "id": "LkHlEG0vYJ_O"
      }
    },
    {
      "cell_type": "markdown",
      "source": [
        "Используя цикл for."
      ],
      "metadata": {
        "id": "7uY1nebXbvUI"
      }
    },
    {
      "cell_type": "code",
      "source": [
        "def dict_from_lists(keys: list, values: list) -> dict:\n",
        "    dict_new = {}\n",
        "    for i in range(len(keys)):\n",
        "        dict_new.update({keys[i]: values[i]})\n",
        "    return dict_new"
      ],
      "metadata": {
        "id": "ArNfUqwmUOLo"
      },
      "execution_count": null,
      "outputs": []
    },
    {
      "cell_type": "code",
      "source": [
        "dict_from_lists(keys, values)"
      ],
      "metadata": {
        "colab": {
          "base_uri": "https://localhost:8080/"
        },
        "id": "VXATAjjDZxb1",
        "outputId": "ded8e5ce-802b-4d61-d6f5-f8e2174a32cb"
      },
      "execution_count": null,
      "outputs": [
        {
          "output_type": "execute_result",
          "data": {
            "text/plain": [
              "{'One': 1, 'Two': 2, 'Three': 3}"
            ]
          },
          "metadata": {},
          "execution_count": 5
        }
      ]
    },
    {
      "cell_type": "markdown",
      "source": [
        "###Задание 2\n"
      ],
      "metadata": {
        "id": "VweZzbkdbwJl"
      }
    },
    {
      "cell_type": "markdown",
      "source": [
        "Используя dict comprehensions."
      ],
      "metadata": {
        "id": "Xpb5GGTJcFV3"
      }
    },
    {
      "cell_type": "code",
      "source": [
        "def dict_from_lists_2(keys: list, values: list) -> dict:\n",
        "    dict_new = {keys[i]: values[i] for i in range(len(keys))}\n",
        "    return dict_new"
      ],
      "metadata": {
        "id": "CJcuh-dvdi0u"
      },
      "execution_count": null,
      "outputs": []
    },
    {
      "cell_type": "code",
      "source": [
        "\n",
        "dict_from_lists_2(keys, values)"
      ],
      "metadata": {
        "colab": {
          "base_uri": "https://localhost:8080/"
        },
        "id": "nZAKi3BHdnRh",
        "outputId": "c1a932c0-71e8-4c34-a10e-a63cd350e61d"
      },
      "execution_count": null,
      "outputs": [
        {
          "output_type": "execute_result",
          "data": {
            "text/plain": [
              "{'One': 1, 'Two': 2, 'Three': 3}"
            ]
          },
          "metadata": {},
          "execution_count": 7
        }
      ]
    }
  ]
}