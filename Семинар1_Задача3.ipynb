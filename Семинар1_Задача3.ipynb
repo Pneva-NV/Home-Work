{
  "nbformat": 4,
  "nbformat_minor": 0,
  "metadata": {
    "colab": {
      "provenance": [],
      "authorship_tag": "ABX9TyNBIYEOaHsBm1HQt5Ew5BdS",
      "include_colab_link": true
    },
    "kernelspec": {
      "name": "python3",
      "display_name": "Python 3"
    },
    "language_info": {
      "name": "python"
    }
  },
  "cells": [
    {
      "cell_type": "markdown",
      "metadata": {
        "id": "view-in-github",
        "colab_type": "text"
      },
      "source": [
        "<a href=\"https://colab.research.google.com/github/Pneva-NV/Home-Work/blob/main/%D0%A1%D0%B5%D0%BC%D0%B8%D0%BD%D0%B0%D1%801_%D0%97%D0%B0%D0%B4%D0%B0%D1%87%D0%B03.ipynb\" target=\"_parent\"><img src=\"https://colab.research.google.com/assets/colab-badge.svg\" alt=\"Open In Colab\"/></a>"
      ]
    },
    {
      "cell_type": "markdown",
      "source": [
        "##Задача 3"
      ],
      "metadata": {
        "id": "S-f5fziYoHLu"
      }
    },
    {
      "cell_type": "markdown",
      "source": [
        "Извлеките только два ключа name и age из представленного словаря.\n",
        "\n",
        "client_dict = { \"name\":\"John\", \"age\":\"25\", \"salary\":5000, \"city\":\"Moscow\" }"
      ],
      "metadata": {
        "id": "e_9Tb6gQoruK"
      }
    },
    {
      "cell_type": "markdown",
      "source": [
        "###Задание 1"
      ],
      "metadata": {
        "id": "aYYNLe5UoN5o"
      }
    },
    {
      "cell_type": "markdown",
      "source": [
        "Напишите функцию с циклом for. Функция на вход принимает:\n",
        "\n",
        "- исходный словарь;\n",
        "- ключи, которые нужно извлечь (аргумент по умолчанию);\n",
        "На выходе словарь с нужными ключами. Используйте аннотирование типов."
      ],
      "metadata": {
        "id": "WU9KxfScoUP4"
      }
    },
    {
      "cell_type": "code",
      "source": [
        "client_dict = {\n",
        "    \"name\":\"John\",\n",
        "    \"age\":\"25\",\n",
        "    \"salary\":5000,\n",
        "    \"city\":\"Moscow\"\n",
        "}\n",
        "\n",
        "def select_keys(dict1: dict, keys_list: list = ['name', 'age']) -> dict:\n",
        "    dict_new = {}\n",
        "    for i in range(len(keys_list)):\n",
        "        dict_new.update({keys_list[i]: dict1[keys_list[i]]})\n",
        "    return dict_new"
      ],
      "metadata": {
        "id": "QiRqOKnAoS18"
      },
      "execution_count": 1,
      "outputs": []
    },
    {
      "cell_type": "code",
      "source": [
        "select_keys(client_dict)"
      ],
      "metadata": {
        "colab": {
          "base_uri": "https://localhost:8080/"
        },
        "id": "wziuOyVvpRww",
        "outputId": "14753de4-ddb2-4210-eb3c-9458976eab73"
      },
      "execution_count": 2,
      "outputs": [
        {
          "output_type": "execute_result",
          "data": {
            "text/plain": [
              "{'name': 'John', 'age': '25'}"
            ]
          },
          "metadata": {},
          "execution_count": 2
        }
      ]
    },
    {
      "cell_type": "markdown",
      "source": [
        "###Задание 2"
      ],
      "metadata": {
        "id": "0LBMFIjMpWcY"
      }
    },
    {
      "cell_type": "markdown",
      "source": [
        "Используя dict comprehensions."
      ],
      "metadata": {
        "id": "ad3u8vH_pbp6"
      }
    },
    {
      "cell_type": "code",
      "source": [
        "def select_keys_comp(dict1: dict, keys_list: list = ['name', 'age']) -> dict:\n",
        "    dict_new = {key:dict1[key] for key in keys_list}\n",
        "    return dict_new"
      ],
      "metadata": {
        "id": "hW5lL2sGpdIq"
      },
      "execution_count": 3,
      "outputs": []
    },
    {
      "cell_type": "code",
      "source": [
        "select_keys(client_dict)"
      ],
      "metadata": {
        "colab": {
          "base_uri": "https://localhost:8080/"
        },
        "id": "RDWAYgL4phpL",
        "outputId": "eb8ca1df-8a72-43d0-ba6f-746366961890"
      },
      "execution_count": 4,
      "outputs": [
        {
          "output_type": "execute_result",
          "data": {
            "text/plain": [
              "{'name': 'John', 'age': '25'}"
            ]
          },
          "metadata": {},
          "execution_count": 4
        }
      ]
    }
  ]
}